{
 "cells": [
  {
   "cell_type": "code",
   "execution_count": null,
   "metadata": {
    "collapsed": true
   },
   "outputs": [],
   "source": [
    "# ADD IMAGE TO DATABASE\n",
    "import requests\n",
    "import json\n",
    "\n",
    "url = \"http://replica.dhlabdemo.org:5009/api/v1/database\"\n",
    "\n",
    "jsonData = {\"image_url\":'https://upload.wikimedia.org/wikipedia/commons/b/b7/Cappella_delle_arti_liberali%2C_arti_di_agostino_di_duccio_06%2C3_poesia_%28apollo%29.jpg',\n",
    "                \"metadata\": {\"author\": 'DI DUCCIO, Agostino',\n",
    "                             \"title\": 'Apollon - Liberal Arts Chapel - Temple Malatesta',\n",
    "                             \"date\": '',\n",
    "                             \"school\": 'Italian',\n",
    "                             \"form\": 'Relief',\n",
    "                             \"type\": 'Mythology'\n",
    "                             },\n",
    "               \"origin\": 'bilderatlas - table 25 - Im. 8.2',\n",
    "               \"webpage_url\": ''\n",
    "               }\n",
    "req = requests.post(url, json = jsonData)\n",
    "    \n",
    "print(req.json())"
   ]
  },
  {
   "cell_type": "code",
   "execution_count": 2,
   "metadata": {
    "collapsed": false
   },
   "outputs": [
    {
     "name": "stdout",
     "output_type": "stream",
     "text": [
      "<Response [200]>\n"
     ]
    }
   ],
   "source": [
    "# DELETE IMAGE FROM DATABASE\n",
    "import requests\n",
    "import json\n",
    "\n",
    "DBurl = \"http://replica.dhlabdemo.org:5009/api/v1/database/id/\"\n",
    "imageID = '570634b56be0fa70d49ab933'\n",
    "\n",
    "url = DBurl + imageID\n",
    "\n",
    "\n",
    "req = requests.delete(url)\n",
    "\n",
    "print(req)"
   ]
  },
  {
   "cell_type": "code",
   "execution_count": null,
   "metadata": {
    "collapsed": true
   },
   "outputs": [],
   "source": []
  }
 ],
 "metadata": {
  "kernelspec": {
   "display_name": "Python 3",
   "language": "python",
   "name": "python3"
  },
  "language_info": {
   "codemirror_mode": {
    "name": "ipython",
    "version": 3
   },
   "file_extension": ".py",
   "mimetype": "text/x-python",
   "name": "python",
   "nbconvert_exporter": "python",
   "pygments_lexer": "ipython3",
   "version": "3.5.1"
  }
 },
 "nbformat": 4,
 "nbformat_minor": 0
}
